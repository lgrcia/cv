{
 "cells": [
  {
   "cell_type": "code",
   "execution_count": 2,
   "id": "lightweight-party",
   "metadata": {},
   "outputs": [],
   "source": [
    "import bibtexparser\n",
    "\n",
    "with open('works.bib') as bibtex_file:\n",
    "    bib_database = bibtexparser.load(bibtex_file)"
   ]
  },
  {
   "cell_type": "code",
   "execution_count": 18,
   "id": "consistent-screen",
   "metadata": {},
   "outputs": [
    {
     "data": {
      "text/plain": [
       "{'year': '2018',\n",
       " 'url': 'http://doi.org/10.1117/12.2314090',\n",
       " 'doi': '10.1117/12.2314090',\n",
       " 'author': \"Lionel Garcia and Garcia, Lionel and Prod{'}homme, Thibaut and Lucsanyi, David and Short, Alex and Santin, Giovanni and Vuolo, Marco and Crowley, Cian and Abreu, Asier and Kholey, Ralf and Lemmel, Frederic and Smit, Hans and de Bruijne, Jos\",\n",
       " 'journal': 'High Energy, Optical, and Infrared Detectors for Astronomy VIII',\n",
       " 'title': 'Validation of a CCD cosmic ray event simulator against Gaia in-orbit data',\n",
       " 'ENTRYTYPE': 'conference',\n",
       " 'ID': 'Lionel_Garcia_91723392'}"
      ]
     },
     "execution_count": 18,
     "metadata": {},
     "output_type": "execute_result"
    }
   ],
   "source": [
    "bib_database.entries[10]"
   ]
  },
  {
   "cell_type": "code",
   "execution_count": 53,
   "id": "original-dover",
   "metadata": {},
   "outputs": [
    {
     "data": {
      "text/plain": [
       "2089"
      ]
     },
     "execution_count": 53,
     "metadata": {},
     "output_type": "execute_result"
    }
   ],
   "source": [
    "txts = []\n",
    "\n",
    "def rem_braces(t):\n",
    "    return t.replace(\"{\", \"\").replace(\"}\", \"\").replace(\"\\pi\", \"$\\pi$\")\n",
    "\n",
    "for paper in bib_database.entries:\n",
    "    authors = rem_braces(paper[\"author\"])\n",
    "    authors = \", \".join(authors.split(\" and \")[1:4]) + \" et al.\"\n",
    "    if \"Garcia\" not in authors:\n",
    "        authors += \" (including Garcia, L. J.)\"\n",
    "    else:\n",
    "        authors.replace(\"Garcia, Lionel\", \"\\\\textbf{Garcia, Lionel}\")\n",
    "        \n",
    "    title = rem_braces(paper[\"title\"])\n",
    "    date = rem_braces(paper[\"year\"])\n",
    "    if \"publisher\" in paper:\n",
    "        journal = rem_braces(paper[\"publisher\"])\n",
    "    else:\n",
    "        journal = \"\"\n",
    "    txts.append(f\"\"\"\\\\publi{{{date}}}\n",
    "    {{{title}}}\n",
    "    {{{authors}}}\n",
    "    {{{journal}}}\"\"\")\n",
    "    \n",
    "open(\"works.txt\", \"w\").write(\"\\n\\n\".join(txts))"
   ]
  },
  {
   "cell_type": "code",
   "execution_count": 43,
   "id": "imported-chile",
   "metadata": {},
   "outputs": [
    {
     "data": {
      "text/plain": [
       "['\\\\publi{2021}\\n    {SPECULOOS: Ultracool dwarf transit survey}\\n    {D. Sebastian,M. Gillon,E. Ducrot et al.(including Garcia, L. J.)}\\n    {{EDP} Sciences}',\n",
       " '\\\\publi{2021}\\n    {Six transiting planets and a chain of Laplace resonances in TOI-178}\\n    {Lionel Garcia,Leleu, A.,Alibert, Y. et al.}\\n    {}',\n",
       " '\\\\publi{2020}\\n    {Development of the SPECULOOS exoplanet search project}\\n    {Lionel Garcia,Sebastian, D.,Pedersen, P. P. et al.}\\n    {}',\n",
       " '\\\\publi{2020}\\n    {VizieR Online Data Catalog: SPECULOOS. Ultracool dwarf transit survey (Sebastian+, 2021)}\\n    {Lionel Garcia,Sebastian, D.,Gillon, M. et al.}\\n    {}',\n",
       " '\\\\publi{2020}\\n    {A super-Earth and a sub-Neptune orbiting the bright, quiet M3 dwarf TOI-1266}\\n    {Lionel Garcia,Demory, B. -O.,Pozuelos, F. J. et al.}\\n    {}',\n",
       " \"\\\\publi{2020}\\n    {\\\\pi Earth: A 3.14 day Earth-sized Planet from K2's Kitchen Served Warm by the SPECULOOS Team}\\n    {Lionel Garcia,Niraula, Prajwal,Wit, Julien de et al.}\\n    {}\",\n",
       " \"\\\\publi{2020}\\n    {GJ 273: on the formation, dynamical evolution, and habitability of a planetary system hosted by an M dwarf at 3.75 parsec}\\n    {Lionel Garcia,Pozuelos, Francisco J.,Su{\\\\'a}rez, Juan C. et al.}\\n    {}\",\n",
       " '\\\\publi{2020}\\n    {The SPECULOOS Project: New targets to hunt planets of Ultra-cool dwarfs.}\\n    {Lionel Garcia,Sebastian, Daniel,Gillon, Michael et al.}\\n    {}',\n",
       " '\\\\publi{2020}\\n    {Complex Modulation of Rapidly Rotating Young M Dwarfs: Adding Pieces to the Puzzle}\\n    {Lionel Garcia,G{\\\\\"u}nther, Maximilian N.,Berardo, David A. et al.}\\n    {}',\n",
       " '\\\\publi{2020}\\n    {Photometry and performance of SPECULOOS-South}\\n    {C A Murray,L Delrez,P P Pedersen et al.(including Garcia, L. J.)}\\n    {Oxford University Press ({OUP})}',\n",
       " \"\\\\publi{2018}\\n    {Validation of a CCD cosmic ray event simulator against Gaia in-orbit data}\\n    {Lionel Garcia,Garcia, Lionel,Prod{'}homme, Thibaut et al.}\\n    {}\"]"
      ]
     },
     "execution_count": 43,
     "metadata": {},
     "output_type": "execute_result"
    }
   ],
   "source": [
    "txts"
   ]
  },
  {
   "cell_type": "code",
   "execution_count": 18,
   "id": "august-tourism",
   "metadata": {},
   "outputs": [
    {
     "data": {
      "text/plain": [
       "{'journal': 'Astronomy {\\\\&} Astrophysics',\n",
       " 'title': '{SPECULOOS}: Ultracool dwarf transit survey',\n",
       " 'author': 'D. Sebastian and M. Gillon and E. Ducrot and F. J. Pozuelos and L. J. Garcia and M. N. GÃ¼nther and L. Delrez and D. Queloz and B. O. Demory and A. H. M. J. Triaud and A. Burgasser and J. de Wit and A. Burdanov and G. Dransfield and E. Jehin and J. McCormac and C. A. Murray and P. Niraula and P. P. Pedersen and B. V. Rackham and S. Sohy and S. Thompson and V. Van Grootel',\n",
       " 'pages': 'A100',\n",
       " 'volume': '645',\n",
       " 'publisher': '{EDP} Sciences',\n",
       " 'month': 'jan',\n",
       " 'year': '2021',\n",
       " 'url': 'https://doi.org/10.1051%2F0004-6361%2F202038827',\n",
       " 'doi': '10.1051/0004-6361/202038827',\n",
       " 'ENTRYTYPE': 'article',\n",
       " 'ID': 'Sebastian_2021'}"
      ]
     },
     "execution_count": 18,
     "metadata": {},
     "output_type": "execute_result"
    }
   ],
   "source": [
    "paper"
   ]
  },
  {
   "cell_type": "code",
   "execution_count": 73,
   "id": "sharp-grass",
   "metadata": {},
   "outputs": [],
   "source": [
    "ads.config.token = '4Wb11yxAAyjXjffgcGsrLmopqA6rdagUwuNtDhTA'\n",
    "papers = list(\n",
    "    ads.SearchQuery(\n",
    "        author=\"Garcia, Lionel J.\",\n",
    "        fl=[\n",
    "            \"id\",\n",
    "            \"title\",\n",
    "            \"author\",\n",
    "            \"doi\",\n",
    "            \"year\",\n",
    "            \"pubdate\",\n",
    "            \"pub\",\n",
    "            \"volume\",\n",
    "            \"page\",\n",
    "            \"identifier\",\n",
    "            \"doctype\",\n",
    "            \"citation_count\",\n",
    "            \"bibcode\",\n",
    "            \"citation\",\n",
    "        ],\n",
    "        max_pages=200,\n",
    "    )\n",
    ")"
   ]
  },
  {
   "cell_type": "code",
   "execution_count": 74,
   "id": "manufactured-toddler",
   "metadata": {},
   "outputs": [],
   "source": [
    "for paper in papers:\n",
    "    if \"planet\" in paper.title:\n",
    "        print(paper.title)"
   ]
  },
  {
   "cell_type": "code",
   "execution_count": null,
   "id": "fitted-latex",
   "metadata": {},
   "outputs": [],
   "source": []
  },
  {
   "cell_type": "code",
   "execution_count": 2,
   "id": "harmful-closing",
   "metadata": {},
   "outputs": [],
   "source": [
    "def get_papers(author, count_cites=True):\n",
    "    papers = list(\n",
    "        ads.SearchQuery(\n",
    "            author=author,\n",
    "            fl=[\n",
    "                \"id\",\n",
    "                \"title\",\n",
    "                \"author\",\n",
    "                \"doi\",\n",
    "                \"year\",\n",
    "                \"pubdate\",\n",
    "                \"pub\",\n",
    "                \"volume\",\n",
    "                \"page\",\n",
    "                \"identifier\",\n",
    "                \"doctype\",\n",
    "                \"citation_count\",\n",
    "                \"bibcode\",\n",
    "                \"citation\",\n",
    "            ],\n",
    "            max_pages=100,\n",
    "        )\n",
    "    )\n",
    "    dicts = []\n",
    "\n",
    "    # Count the citations as a function of time\n",
    "    citedates = []\n",
    "\n",
    "    # Save bibcodes for later\n",
    "    bibcodes = []\n",
    "\n",
    "    for paper in papers:\n",
    "\n",
    "        if not (\n",
    "            (\"Luger, Rodrigo\" in paper.author)\n",
    "            or (\"Luger, R.\" in paper.author)\n",
    "            or (\"Luger, R\" in paper.author)\n",
    "        ):\n",
    "            continue\n",
    "\n",
    "        if manual_exclude(paper):\n",
    "            continue\n",
    "\n",
    "        aid = [\n",
    "            \":\".join(t.split(\":\")[1:])\n",
    "            for t in paper.identifier\n",
    "            if t.startswith(\"arXiv:\")\n",
    "        ]\n",
    "        for t in paper.identifier:\n",
    "            if len(t.split(\".\")) != 2:\n",
    "                continue\n",
    "            try:\n",
    "                list(map(int, t.split(\".\")))\n",
    "            except ValueError:\n",
    "                pass\n",
    "            else:\n",
    "                aid.append(t)\n",
    "        try:\n",
    "            page = int(paper.page[0])\n",
    "        except ValueError:\n",
    "            page = None\n",
    "            if paper.page[0].startswith(\"arXiv:\"):\n",
    "                aid.append(\":\".join(paper.page[0].split(\":\")[1:]))\n",
    "        except TypeError:\n",
    "            page = None\n",
    "\n",
    "        # Get citation dates\n",
    "        if count_cites and paper.citation is not None:\n",
    "            for i, bibcode in tqdm(\n",
    "                enumerate(paper.citation), total=len(paper.citation)\n",
    "            ):\n",
    "                try:\n",
    "                    cite = list(ads.SearchQuery(bibcode=bibcode, fl=[\"pubdate\"]))[0]\n",
    "                    date = int(cite.pubdate[:4]) + int(cite.pubdate[5:7]) / 12.0\n",
    "                    citedates.append(date)\n",
    "                except IndexError:\n",
    "                    pass\n",
    "\n",
    "        # Save bibcode\n",
    "        bibcodes.append(paper.bibcode)\n",
    "\n",
    "        dicts.append(\n",
    "            dict(\n",
    "                doctype=paper.doctype,\n",
    "                authors=format_authors(paper.author),\n",
    "                year=paper.year,\n",
    "                pubdate=paper.pubdate,\n",
    "                doi=paper.doi[0] if paper.doi is not None else None,\n",
    "                title=format_title(paper.title[0]),\n",
    "                pub=paper.pub,\n",
    "                volume=paper.volume,\n",
    "                page=page,\n",
    "                arxiv=aid[0] if len(aid) else None,\n",
    "                citations=paper.citation_count,\n",
    "                url=\"http://adsabs.harvard.edu/abs/\" + paper.bibcode,\n",
    "            )\n",
    "        )\n",
    "\n",
    "    if count_cites:\n",
    "        # Sort the cite dates\n",
    "        citedates = sorted(citedates)\n",
    "        np.savetxt(\"citedates.txt\", citedates, fmt=\"%.3f\")\n",
    "\n",
    "    # Save bibcodes\n",
    "    with open(\"bibcodes.txt\", \"w\") as f:\n",
    "        for bibcode in bibcodes:\n",
    "            print(bibcode, file=f)\n",
    "\n",
    "    return sorted(dicts, key=itemgetter(\"pubdate\"), reverse=True)\n"
   ]
  },
  {
   "cell_type": "code",
   "execution_count": 39,
   "id": "mounted-freeware",
   "metadata": {},
   "outputs": [
    {
     "name": "stdout",
     "output_type": "stream",
     "text": [
      "Direct laser writing for cardiac tissue engineering: a microfluidic heart on a chip with integrated transducers [<arxiv.arxiv.Result.Author object at 0x108f85e10>, <arxiv.arxiv.Result.Author object at 0x108fab710>, <arxiv.arxiv.Result.Author object at 0x108fab350>, <arxiv.arxiv.Result.Author object at 0x108fab390>, <arxiv.arxiv.Result.Author object at 0x108fab450>, <arxiv.arxiv.Result.Author object at 0x108f9ca50>, <arxiv.arxiv.Result.Author object at 0x108faac90>, <arxiv.arxiv.Result.Author object at 0x108f96d50>, <arxiv.arxiv.Result.Author object at 0x108fbd190>]\n",
      "The XFaster Power Spectrum and Likelihood Estimator for the Analysis of Cosmic Microwave Background Maps [<arxiv.arxiv.Result.Author object at 0x108ede710>, <arxiv.arxiv.Result.Author object at 0x108f85e50>, <arxiv.arxiv.Result.Author object at 0x108fa2c50>, <arxiv.arxiv.Result.Author object at 0x108fa2150>, <arxiv.arxiv.Result.Author object at 0x108fa2390>, <arxiv.arxiv.Result.Author object at 0x108fa2a50>, <arxiv.arxiv.Result.Author object at 0x108fa2510>, <arxiv.arxiv.Result.Author object at 0x108e84d50>, <arxiv.arxiv.Result.Author object at 0x108faf510>, <arxiv.arxiv.Result.Author object at 0x108fa2cd0>, <arxiv.arxiv.Result.Author object at 0x108faf150>, <arxiv.arxiv.Result.Author object at 0x108fafa90>, <arxiv.arxiv.Result.Author object at 0x108faf8d0>, <arxiv.arxiv.Result.Author object at 0x108faf490>, <arxiv.arxiv.Result.Author object at 0x108faf190>, <arxiv.arxiv.Result.Author object at 0x108faf550>, <arxiv.arxiv.Result.Author object at 0x108fafcd0>, <arxiv.arxiv.Result.Author object at 0x108faf610>, <arxiv.arxiv.Result.Author object at 0x108ee11d0>, <arxiv.arxiv.Result.Author object at 0x108ee1ad0>, <arxiv.arxiv.Result.Author object at 0x108ee1810>, <arxiv.arxiv.Result.Author object at 0x108ee6a10>, <arxiv.arxiv.Result.Author object at 0x108ee6090>, <arxiv.arxiv.Result.Author object at 0x108ee6ad0>, <arxiv.arxiv.Result.Author object at 0x108eed450>, <arxiv.arxiv.Result.Author object at 0x108eed550>, <arxiv.arxiv.Result.Author object at 0x108eed590>, <arxiv.arxiv.Result.Author object at 0x108eed4d0>, <arxiv.arxiv.Result.Author object at 0x108eed290>, <arxiv.arxiv.Result.Author object at 0x108eed610>, <arxiv.arxiv.Result.Author object at 0x108eed3d0>, <arxiv.arxiv.Result.Author object at 0x108fa4210>, <arxiv.arxiv.Result.Author object at 0x108fa4c50>, <arxiv.arxiv.Result.Author object at 0x108fa4610>, <arxiv.arxiv.Result.Author object at 0x108fa4890>, <arxiv.arxiv.Result.Author object at 0x108fa46d0>, <arxiv.arxiv.Result.Author object at 0x108f97850>, <arxiv.arxiv.Result.Author object at 0x108f97210>, <arxiv.arxiv.Result.Author object at 0x108f978d0>, <arxiv.arxiv.Result.Author object at 0x108f97b90>, <arxiv.arxiv.Result.Author object at 0x108f97250>, <arxiv.arxiv.Result.Author object at 0x108f97f10>, <arxiv.arxiv.Result.Author object at 0x108f97090>, <arxiv.arxiv.Result.Author object at 0x108f97650>, <arxiv.arxiv.Result.Author object at 0x108f97150>, <arxiv.arxiv.Result.Author object at 0x108f97450>, <arxiv.arxiv.Result.Author object at 0x108f979d0>, <arxiv.arxiv.Result.Author object at 0x108f972d0>, <arxiv.arxiv.Result.Author object at 0x108f97750>, <arxiv.arxiv.Result.Author object at 0x108f97e10>, <arxiv.arxiv.Result.Author object at 0x108f97110>, <arxiv.arxiv.Result.Author object at 0x108f97050>, <arxiv.arxiv.Result.Author object at 0x108f97a50>, <arxiv.arxiv.Result.Author object at 0x108f97fd0>, <arxiv.arxiv.Result.Author object at 0x108f975d0>, <arxiv.arxiv.Result.Author object at 0x108f97390>, <arxiv.arxiv.Result.Author object at 0x10799b150>, <arxiv.arxiv.Result.Author object at 0x108fa8850>, <arxiv.arxiv.Result.Author object at 0x108fa8f90>, <arxiv.arxiv.Result.Author object at 0x108fa82d0>, <arxiv.arxiv.Result.Author object at 0x108fa8110>, <arxiv.arxiv.Result.Author object at 0x108fa8b90>, <arxiv.arxiv.Result.Author object at 0x108fa8190>, <arxiv.arxiv.Result.Author object at 0x108fa8a90>, <arxiv.arxiv.Result.Author object at 0x108fa8ad0>, <arxiv.arxiv.Result.Author object at 0x108fa8490>, <arxiv.arxiv.Result.Author object at 0x108fa8f50>]\n",
      "Characterization of the dissipative mappings and their application to perturbations of dissipative-Hamiltonian systems [<arxiv.arxiv.Result.Author object at 0x108f9ca50>, <arxiv.arxiv.Result.Author object at 0x108f96d50>, <arxiv.arxiv.Result.Author object at 0x108fbd190>]\n",
      "Magnetic-Free Silicon Nitride Integrated Optical Isolator [<arxiv.arxiv.Result.Author object at 0x108fa2cd0>, <arxiv.arxiv.Result.Author object at 0x108faf510>, <arxiv.arxiv.Result.Author object at 0x108fafa90>, <arxiv.arxiv.Result.Author object at 0x108faf8d0>, <arxiv.arxiv.Result.Author object at 0x108faf150>, <arxiv.arxiv.Result.Author object at 0x108faf190>, <arxiv.arxiv.Result.Author object at 0x108faf550>, <arxiv.arxiv.Result.Author object at 0x108fafcd0>]\n",
      "Real-time visualization of metastable charge regulation pathways in molecularly confined slit geometries [<arxiv.arxiv.Result.Author object at 0x108ee6ad0>, <arxiv.arxiv.Result.Author object at 0x108eed450>, <arxiv.arxiv.Result.Author object at 0x108eed590>, <arxiv.arxiv.Result.Author object at 0x108eed4d0>, <arxiv.arxiv.Result.Author object at 0x108eed550>]\n",
      "Gauge $\\times$ Gauge $=$ Gravity on Homogeneous Spaces using Tensor Convolutions [<arxiv.arxiv.Result.Author object at 0x108faf190>, <arxiv.arxiv.Result.Author object at 0x108faf550>, <arxiv.arxiv.Result.Author object at 0x108fafcd0>, <arxiv.arxiv.Result.Author object at 0x108fa4210>]\n",
      "Convergence rates of limit theorems in random chord diagrams [<arxiv.arxiv.Result.Author object at 0x108fa4890>]\n",
      "Direct Multipoint Observations Capturing the Reformation of a Supercritical Fast Magnetosonic Shock [<arxiv.arxiv.Result.Author object at 0x108f97b90>, <arxiv.arxiv.Result.Author object at 0x108f97250>, <arxiv.arxiv.Result.Author object at 0x108f97090>, <arxiv.arxiv.Result.Author object at 0x108f97650>, <arxiv.arxiv.Result.Author object at 0x108f97f10>, <arxiv.arxiv.Result.Author object at 0x108f97450>, <arxiv.arxiv.Result.Author object at 0x108f979d0>, <arxiv.arxiv.Result.Author object at 0x108f972d0>, <arxiv.arxiv.Result.Author object at 0x108f97750>, <arxiv.arxiv.Result.Author object at 0x108f97150>, <arxiv.arxiv.Result.Author object at 0x108f97e10>, <arxiv.arxiv.Result.Author object at 0x108f97110>, <arxiv.arxiv.Result.Author object at 0x108f97050>, <arxiv.arxiv.Result.Author object at 0x108f97a50>, <arxiv.arxiv.Result.Author object at 0x108f97fd0>]\n",
      "Linear Systems can be Hard to Learn [<arxiv.arxiv.Result.Author object at 0x108fa8f90>, <arxiv.arxiv.Result.Author object at 0x108fa82d0>]\n",
      "High pressure study of low-Z superconductor Be$_{22}$Re [<arxiv.arxiv.Result.Author object at 0x108f979d0>, <arxiv.arxiv.Result.Author object at 0x108f972d0>, <arxiv.arxiv.Result.Author object at 0x108f97150>, <arxiv.arxiv.Result.Author object at 0x108f97e10>, <arxiv.arxiv.Result.Author object at 0x108f97750>, <arxiv.arxiv.Result.Author object at 0x108f97050>, <arxiv.arxiv.Result.Author object at 0x108f97a50>, <arxiv.arxiv.Result.Author object at 0x108f97fd0>, <arxiv.arxiv.Result.Author object at 0x108fa8a90>, <arxiv.arxiv.Result.Author object at 0x108f97110>, <arxiv.arxiv.Result.Author object at 0x108fa8ad0>, <arxiv.arxiv.Result.Author object at 0x108fa8490>, <arxiv.arxiv.Result.Author object at 0x108fa8f50>]\n"
     ]
    }
   ],
   "source": [
    "for r in s.get():\n",
    "    print(r.title, r.authors)"
   ]
  },
  {
   "cell_type": "code",
   "execution_count": 18,
   "id": "broken-terry",
   "metadata": {},
   "outputs": [
    {
     "data": {
      "text/plain": [
       "[]"
      ]
     },
     "execution_count": 18,
     "metadata": {},
     "output_type": "execute_result"
    }
   ],
   "source": [
    "list(res)"
   ]
  },
  {
   "cell_type": "code",
   "execution_count": 34,
   "id": "literary-movie",
   "metadata": {},
   "outputs": [
    {
     "ename": "AttributeError",
     "evalue": "module 'urllib' has no attribute 'urlopen'",
     "output_type": "error",
     "traceback": [
      "\u001b[0;31m---------------------------------------------------------------------------\u001b[0m",
      "\u001b[0;31mAttributeError\u001b[0m                            Traceback (most recent call last)",
      "\u001b[0;32m<ipython-input-34-6801421fa44c>\u001b[0m in \u001b[0;36m<module>\u001b[0;34m\u001b[0m\n\u001b[1;32m      1\u001b[0m \u001b[0;32mimport\u001b[0m \u001b[0murllib\u001b[0m\u001b[0;34m\u001b[0m\u001b[0;34m\u001b[0m\u001b[0m\n\u001b[1;32m      2\u001b[0m \u001b[0murl\u001b[0m \u001b[0;34m=\u001b[0m \u001b[0;34m'http://export.arxiv.org/api/query?search_query=all:electron&start=0&max_results=1'\u001b[0m\u001b[0;34m\u001b[0m\u001b[0;34m\u001b[0m\u001b[0m\n\u001b[0;32m----> 3\u001b[0;31m \u001b[0mdata\u001b[0m \u001b[0;34m=\u001b[0m \u001b[0murllib\u001b[0m\u001b[0;34m.\u001b[0m\u001b[0murlopen\u001b[0m\u001b[0;34m(\u001b[0m\u001b[0murl\u001b[0m\u001b[0;34m)\u001b[0m\u001b[0;34m.\u001b[0m\u001b[0mread\u001b[0m\u001b[0;34m(\u001b[0m\u001b[0;34m)\u001b[0m\u001b[0;34m\u001b[0m\u001b[0;34m\u001b[0m\u001b[0m\n\u001b[0m\u001b[1;32m      4\u001b[0m \u001b[0mprint\u001b[0m\u001b[0;34m(\u001b[0m\u001b[0mdata\u001b[0m\u001b[0;34m)\u001b[0m\u001b[0;34m\u001b[0m\u001b[0;34m\u001b[0m\u001b[0m\n",
      "\u001b[0;31mAttributeError\u001b[0m: module 'urllib' has no attribute 'urlopen'"
     ]
    }
   ],
   "source": [
    "import urllib\n",
    "url = 'http://export.arxiv.org/api/query?search_query=all:electron&start=0&max_results=1'\n",
    "data = urllib.urlopen(url).read()\n",
    "print(data)"
   ]
  },
  {
   "cell_type": "code",
   "execution_count": null,
   "id": "amazing-clone",
   "metadata": {},
   "outputs": [],
   "source": []
  }
 ],
 "metadata": {
  "kernelspec": {
   "display_name": "Python 3",
   "language": "python",
   "name": "python3"
  },
  "language_info": {
   "codemirror_mode": {
    "name": "ipython",
    "version": 3
   },
   "file_extension": ".py",
   "mimetype": "text/x-python",
   "name": "python",
   "nbconvert_exporter": "python",
   "pygments_lexer": "ipython3",
   "version": "3.6.5"
  }
 },
 "nbformat": 4,
 "nbformat_minor": 5
}
